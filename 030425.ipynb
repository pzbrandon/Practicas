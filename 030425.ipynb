{
 "cells": [
  {
   "cell_type": "code",
   "execution_count": 1,
   "id": "8096fa84-f02f-4716-a3a1-e970b3d50f3b",
   "metadata": {},
   "outputs": [],
   "source": [
    "import numpy as np"
   ]
  },
  {
   "cell_type": "code",
   "execution_count": 16,
   "id": "20f08024-5d9a-48a0-89ab-a3c81930b23a",
   "metadata": {},
   "outputs": [],
   "source": [
    "def MatrixGauss(M,v):\n",
    "    n = len(M)\n",
    "\n",
    "    A = M.copy()\n",
    "    b = v.copy()\n",
    "    \n",
    "    for i in range(n):\n",
    "        a = A[i] = A[i]/A[i][i]\n",
    "        c = b[i] = b[i]/A[i][i]\n",
    "        A[i] = a\n",
    "        b[i] = c\n",
    "        for j in range(i+1,n):\n",
    "            r = A[j] - (A[j][i]*A[i]) \n",
    "            p = b[j] - (A[j][i]*A[i]) \n",
    "            A[j] = r\n",
    "            b[j] = p\n",
    "    s = np.zeros(n,float)\n",
    "\n",
    "    for i in range(n-1,-1,-1):\n",
    "        s[i] = b[i] - np.dot(A[i],s)\n",
    "\n",
    "    return s"
   ]
  },
  {
   "cell_type": "code",
   "execution_count": 17,
   "id": "f34d11f4-3bfb-49fa-9e5c-888b6f8fb934",
   "metadata": {},
   "outputs": [],
   "source": [
    "A = np.array([[8,2,3],[4,5,6],[7,8,10]],float)\n",
    "\n",
    "b = np.array([66,2,3],float)"
   ]
  },
  {
   "cell_type": "code",
   "execution_count": 18,
   "id": "105faa90-efc3-4d78-8f81-3738b359c5f7",
   "metadata": {},
   "outputs": [
    {
     "ename": "ValueError",
     "evalue": "setting an array element with a sequence.",
     "output_type": "error",
     "traceback": [
      "\u001b[0;31m---------------------------------------------------------------------------\u001b[0m",
      "\u001b[0;31mTypeError\u001b[0m                                 Traceback (most recent call last)",
      "\u001b[0;31mTypeError\u001b[0m: only length-1 arrays can be converted to Python scalars",
      "\nThe above exception was the direct cause of the following exception:\n",
      "\u001b[0;31mValueError\u001b[0m                                Traceback (most recent call last)",
      "Cell \u001b[0;32mIn[18], line 1\u001b[0m\n\u001b[0;32m----> 1\u001b[0m \u001b[43mMatrixGauss\u001b[49m\u001b[43m(\u001b[49m\u001b[43mA\u001b[49m\u001b[43m,\u001b[49m\u001b[43mb\u001b[49m\u001b[43m)\u001b[49m\n",
      "Cell \u001b[0;32mIn[16], line 16\u001b[0m, in \u001b[0;36mMatrixGauss\u001b[0;34m(M, v)\u001b[0m\n\u001b[1;32m     14\u001b[0m         p \u001b[38;5;241m=\u001b[39m b[j] \u001b[38;5;241m-\u001b[39m (A[j][i]\u001b[38;5;241m*\u001b[39mA[i]) \n\u001b[1;32m     15\u001b[0m         A[j] \u001b[38;5;241m=\u001b[39m r\n\u001b[0;32m---> 16\u001b[0m         \u001b[43mb\u001b[49m\u001b[43m[\u001b[49m\u001b[43mj\u001b[49m\u001b[43m]\u001b[49m \u001b[38;5;241m=\u001b[39m p\n\u001b[1;32m     17\u001b[0m s \u001b[38;5;241m=\u001b[39m np\u001b[38;5;241m.\u001b[39mzeros(n,\u001b[38;5;28mfloat\u001b[39m)\n\u001b[1;32m     19\u001b[0m \u001b[38;5;28;01mfor\u001b[39;00m i \u001b[38;5;129;01min\u001b[39;00m \u001b[38;5;28mrange\u001b[39m(n\u001b[38;5;241m-\u001b[39m\u001b[38;5;241m1\u001b[39m,\u001b[38;5;241m-\u001b[39m\u001b[38;5;241m1\u001b[39m,\u001b[38;5;241m-\u001b[39m\u001b[38;5;241m1\u001b[39m):\n",
      "\u001b[0;31mValueError\u001b[0m: setting an array element with a sequence."
     ]
    }
   ],
   "source": [
    "MatrixGauss(A,b)"
   ]
  },
  {
   "cell_type": "code",
   "execution_count": null,
   "id": "473e0f2a-f39a-4824-8cf7-385a6c9232b5",
   "metadata": {},
   "outputs": [],
   "source": []
  }
 ],
 "metadata": {
  "kernelspec": {
   "display_name": "Python 3 (ipykernel)",
   "language": "python",
   "name": "python3"
  },
  "language_info": {
   "codemirror_mode": {
    "name": "ipython",
    "version": 3
   },
   "file_extension": ".py",
   "mimetype": "text/x-python",
   "name": "python",
   "nbconvert_exporter": "python",
   "pygments_lexer": "ipython3",
   "version": "3.13.2"
  }
 },
 "nbformat": 4,
 "nbformat_minor": 5
}
