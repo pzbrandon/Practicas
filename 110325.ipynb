{
 "cells": [
  {
   "cell_type": "code",
   "execution_count": 2,
   "id": "9e8feac6-846d-4a3b-8e54-490b99246c41",
   "metadata": {},
   "outputs": [],
   "source": [
    "import numpy as np\n",
    "import matplotlib.pyplot as pt\n"
   ]
  },
  {
   "cell_type": "code",
   "execution_count": 3,
   "id": "ea7f8e6c-fb7f-4026-9fd3-15ead6da3b32",
   "metadata": {},
   "outputs": [],
   "source": [
    "velocidades = []\n",
    "\n",
    "datos = open(\"velocidades.txt\", \"r\")\n",
    "for linea in datos:\n",
    "    velocidades.append(linea)\n",
    "\n",
    "tiempo = []\n",
    "for v in velocidades:\n",
    "    t = v.split('\\t')\n",
    "    tiempo.append(t)\n",
    "\n"
   ]
  },
  {
   "cell_type": "code",
   "execution_count": 4,
   "id": "b120b20f-ca14-4786-a70a-722fcf8cc862",
   "metadata": {},
   "outputs": [
    {
     "data": {
      "text/plain": [
       "(array([0.]), array([2.]))"
      ]
     },
     "execution_count": 4,
     "metadata": {},
     "output_type": "execute_result"
    }
   ],
   "source": [
    "np.polynomial.legendre.leggauss(1)"
   ]
  },
  {
   "cell_type": "code",
   "execution_count": 6,
   "id": "73d97d5e-a51f-44b3-b0e8-0c70b21bc3b0",
   "metadata": {},
   "outputs": [
    {
     "name": "stdout",
     "output_type": "stream",
     "text": [
      "(array([0.]), array([2.]))\n",
      "(array([-0.57735027,  0.57735027]), array([1., 1.]))\n",
      "(array([-0.77459667,  0.        ,  0.77459667]), array([0.55555556, 0.88888889, 0.55555556]))\n",
      "(array([-0.86113631, -0.33998104,  0.33998104,  0.86113631]), array([0.34785485, 0.65214515, 0.65214515, 0.34785485]))\n",
      "(array([-0.90617985, -0.53846931,  0.        ,  0.53846931,  0.90617985]), array([0.23692689, 0.47862867, 0.56888889, 0.47862867, 0.23692689]))\n",
      "(array([-0.93246951, -0.66120939, -0.23861919,  0.23861919,  0.66120939,\n",
      "        0.93246951]), array([0.17132449, 0.36076157, 0.46791393, 0.46791393, 0.36076157,\n",
      "       0.17132449]))\n",
      "(array([-0.94910791, -0.74153119, -0.40584515,  0.        ,  0.40584515,\n",
      "        0.74153119,  0.94910791]), array([0.12948497, 0.27970539, 0.38183005, 0.41795918, 0.38183005,\n",
      "       0.27970539, 0.12948497]))\n",
      "(array([-0.96028986, -0.79666648, -0.52553241, -0.18343464,  0.18343464,\n",
      "        0.52553241,  0.79666648,  0.96028986]), array([0.10122854, 0.22238103, 0.31370665, 0.36268378, 0.36268378,\n",
      "       0.31370665, 0.22238103, 0.10122854]))\n",
      "(array([-0.96816024, -0.83603111, -0.61337143, -0.32425342,  0.        ,\n",
      "        0.32425342,  0.61337143,  0.83603111,  0.96816024]), array([0.08127439, 0.18064816, 0.2606107 , 0.31234708, 0.33023936,\n",
      "       0.31234708, 0.2606107 , 0.18064816, 0.08127439]))\n",
      "(array([-0.97390653, -0.86506337, -0.67940957, -0.43339539, -0.14887434,\n",
      "        0.14887434,  0.43339539,  0.67940957,  0.86506337,  0.97390653]), array([0.06667134, 0.14945135, 0.21908636, 0.26926672, 0.29552422,\n",
      "       0.29552422, 0.26926672, 0.21908636, 0.14945135, 0.06667134]))\n"
     ]
    }
   ],
   "source": [
    "legen = []\n",
    "for i in range(1,11):\n",
    "    w = np.polynomial.legendre.leggauss(i)\n",
    "    legen.append(w)\n",
    "\n",
    "for l in legen:\n",
    "    print(l)"
   ]
  },
  {
   "cell_type": "code",
   "execution_count": 7,
   "id": "9e04fe98-1cca-4bac-bfef-899df1d8c8e5",
   "metadata": {},
   "outputs": [],
   "source": [
    "def trapecio(a,b,f,N):\n",
    "    h = (b-a)/N\n",
    "    I = h*(f(a)-f(b))/2\n",
    "    I += h*sum( [f(a + k*h) for k in range(1,N)])\n",
    "    return I\n",
    "    "
   ]
  },
  {
   "cell_type": "code",
   "execution_count": 26,
   "id": "564d2759-f24d-498b-b988-a0b6bb531a5b",
   "metadata": {},
   "outputs": [],
   "source": [
    "def simpson(a,b,f,N):\n",
    "    h = (b-a)/N\n",
    "    I = h*(f(a)+f(b))/3\n",
    "    for i in range(1,int(N)):\n",
    "        if (i%2==0):\n",
    "            I += 2*f(a+i*h)*h/3\n",
    "        elif (i%2==1):\n",
    "            I += 4*f(a+i*h)*h/3\n",
    "    return I\n"
   ]
  },
  {
   "cell_type": "code",
   "execution_count": 15,
   "id": "f639b79b-1d2e-4ca6-a4ca-7344cda1b1e2",
   "metadata": {},
   "outputs": [
    {
     "data": {
      "text/plain": [
       "1.9996"
      ]
     },
     "execution_count": 15,
     "metadata": {},
     "output_type": "execute_result"
    }
   ],
   "source": [
    "def f(x):\n",
    "    return x\n",
    "    \n",
    "trapecio(0,2,f,10000)"
   ]
  },
  {
   "cell_type": "code",
   "execution_count": 29,
   "id": "0928c457-0f46-48dd-8b94-3bcf1ccee46f",
   "metadata": {},
   "outputs": [
    {
     "data": {
      "text/plain": [
       "2.0"
      ]
     },
     "execution_count": 29,
     "metadata": {},
     "output_type": "execute_result"
    }
   ],
   "source": [
    "simpson(0,2,f,100)"
   ]
  },
  {
   "cell_type": "code",
   "execution_count": 22,
   "id": "01463b1b-d55f-421f-9a01-93894c568b6f",
   "metadata": {},
   "outputs": [
    {
     "data": {
      "text/plain": [
       "0"
      ]
     },
     "execution_count": 22,
     "metadata": {},
     "output_type": "execute_result"
    }
   ],
   "source": [
    "2%2"
   ]
  }
 ],
 "metadata": {
  "kernelspec": {
   "display_name": "Python 3 (ipykernel)",
   "language": "python",
   "name": "python3"
  },
  "language_info": {
   "codemirror_mode": {
    "name": "ipython",
    "version": 3
   },
   "file_extension": ".py",
   "mimetype": "text/x-python",
   "name": "python",
   "nbconvert_exporter": "python",
   "pygments_lexer": "ipython3",
   "version": "3.13.2"
  }
 },
 "nbformat": 4,
 "nbformat_minor": 5
}
