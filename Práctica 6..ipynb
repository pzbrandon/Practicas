{
 "cells": [
  {
   "cell_type": "markdown",
   "id": "989abafa-25f4-4f82-988b-ad80ae0a290a",
   "metadata": {},
   "source": [
    "<h1 align=\"center\">Física Computacional.</h1>\n",
    "<h1 align=\"center\">Semestre 2025-2</h1>\n",
    "\n",
    "<h2>Práctica 6. Métodos de solución numérica para problemas matriciales y sistemas de ecuaciones lineales </h2> \n",
    "\n",
    "---\n",
    "### Alumno: Pérez Trejo Brandon Eliud\n",
    "---"
   ]
  },
  {
   "cell_type": "markdown",
   "id": "926f9c76-c9be-4f60-b97d-49ce6677a3c3",
   "metadata": {},
   "source": [
    "#### **1. Productos vectoriales y matriciales.** Escribe el pseudocódigo de los algoritmos que realicen las siguientes operaciones vectoriales; así como los respectivos programas en python, sin usar bibliotecas como _numpy_ ni cualquier otra (i.e., usando solo listas) que implementen dichos algoritmos:\n",
    "\n",
    "#### **(a)** El _producto interior_ (producto punto) de dos vectores en $\\mathbb{R}^3$. En este caso, para la implementación el usuario del programa debe insertar las entradas de los vectores."
   ]
  },
  {
   "cell_type": "markdown",
   "id": "6c36a962-9d9b-4768-a2d6-084869cd9c24",
   "metadata": {},
   "source": [
    "#### **(b)** El producto interior de dos vectores en $\\mathbb{R}^n$. Para la implementación, en este caso, encuentra una manera de generar dos vectores diferentes en $\\mathbb{R}^n$."
   ]
  },
  {
   "cell_type": "markdown",
   "id": "eeafd381-3588-44dd-a67a-b51df53c2d13",
   "metadata": {},
   "source": [
    "#### **(c)** El producto de una matriz $A\\in \\mathbb{R}^{n\\times n}$, por un vector de $\\mathbb{R^n}$. Para la implementación de las entradas tanto del vector como de la matriz deben leerse de un archivo de datos (que tú puedes generar)."
   ]
  },
  {
   "cell_type": "code",
   "execution_count": null,
   "id": "213b2f0e-1acc-4346-964c-cd321c93530f",
   "metadata": {},
   "outputs": [],
   "source": []
  }
 ],
 "metadata": {
  "kernelspec": {
   "display_name": "Python 3 (ipykernel)",
   "language": "python",
   "name": "python3"
  },
  "language_info": {
   "codemirror_mode": {
    "name": "ipython",
    "version": 3
   },
   "file_extension": ".py",
   "mimetype": "text/x-python",
   "name": "python",
   "nbconvert_exporter": "python",
   "pygments_lexer": "ipython3",
   "version": "3.13.2"
  }
 },
 "nbformat": 4,
 "nbformat_minor": 5
}
