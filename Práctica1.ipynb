{
 "cells": [
  {
   "cell_type": "code",
   "execution_count": 7,
   "id": "a216f51d-6d90-4072-84a0-405a73888cbd",
   "metadata": {},
   "outputs": [],
   "source": [
    "#Lo primero que hago es definir las constantes que se van a utilizar en el problema: \n",
    "#G la constante de gravitación de Newton, M la masa de la Tierra y R el radio de la Tierra.\n",
    "\n",
    "G=6.67e-11 #m^3 Kg^-1 s^2 \n",
    "M=5.97e24 #Kg\n",
    "R=6.371e6 #m (Todo en el sistema MKS)\n",
    "\n",
    "from math import pi #También requiero usar el valor de pi\n",
    "\n",
    "#Ahora construyo la función de la altitud que depende del tiempo\n",
    "\n",
    "def Altitud(T):\n",
    "    h=(( (G*M*(T**2)) / (4*((pi)**2)) )**(1/3)) - R\n",
    "    return h\n"
   ]
  },
  {
   "cell_type": "code",
   "execution_count": 12,
   "id": "94b65ed7-befd-42cd-a69c-392b81453073",
   "metadata": {},
   "outputs": [
    {
     "name": "stdout",
     "output_type": "stream",
     "text": [
      "43200\n",
      "5400\n",
      "2700\n"
     ]
    }
   ],
   "source": [
    "#El programa se tiene que probar para los tiempos de 90 y 45 minutos, así que primero los convierto a segundos\n",
    "\n",
    "t0=12*3600 #Número de horas que tiene un día por los segundos que tiene una hora\n",
    "t1=90*60 #Minutos por la cantidad de segundos que tiene un minuto\n",
    "t2=45*60\n",
    "\n",
    "print(t0)\n",
    "print(t1)\n",
    "print(t2)"
   ]
  },
  {
   "cell_type": "code",
   "execution_count": 13,
   "id": "e8905afa-9373-48e7-ae7b-2d494754035c",
   "metadata": {},
   "outputs": [
    {
     "data": {
      "text/plain": [
       "20230286.50149144"
      ]
     },
     "execution_count": 13,
     "metadata": {},
     "output_type": "execute_result"
    }
   ],
   "source": [
    "#Evaluo los tiempos dados medidos en segundos en la función cuyas unidades son adecuadas.\n",
    "\n",
    "Altitud(43200)"
   ]
  },
  {
   "cell_type": "code",
   "execution_count": 14,
   "id": "547abedf-c348-44b7-92c1-2b6227e1c3b9",
   "metadata": {},
   "outputs": [
    {
     "data": {
      "text/plain": [
       "279321.6253728606"
      ]
     },
     "execution_count": 14,
     "metadata": {},
     "output_type": "execute_result"
    }
   ],
   "source": [
    "Altitud(5400)"
   ]
  },
  {
   "cell_type": "code",
   "execution_count": 15,
   "id": "87ac5b95-0ac1-466a-adee-99c8a0a3d32a",
   "metadata": {},
   "outputs": [
    {
     "data": {
      "text/plain": [
       "-2181559.8978108233"
      ]
     },
     "execution_count": 15,
     "metadata": {},
     "output_type": "execute_result"
    }
   ],
   "source": [
    "Altitud(2700)"
   ]
  },
  {
   "cell_type": "code",
   "execution_count": 16,
   "id": "4cf03bb8-157b-493c-9844-f955cd0e71fe",
   "metadata": {},
   "outputs": [],
   "source": [
    "#Lo que se concluye del último cálculo es que no puede haber satélites que orbiten el planeta en esa última cantidad de tiempo."
   ]
  }
 ],
 "metadata": {
  "kernelspec": {
   "display_name": "Python 3 (ipykernel)",
   "language": "python",
   "name": "python3"
  },
  "language_info": {
   "codemirror_mode": {
    "name": "ipython",
    "version": 3
   },
   "file_extension": ".py",
   "mimetype": "text/x-python",
   "name": "python",
   "nbconvert_exporter": "python",
   "pygments_lexer": "ipython3",
   "version": "3.13.1"
  }
 },
 "nbformat": 4,
 "nbformat_minor": 5
}
