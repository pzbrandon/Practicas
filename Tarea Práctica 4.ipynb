{
 "cells": [
  {
   "cell_type": "markdown",
   "id": "6a8bbb30-587f-463a-b2d9-e56a5ffc343c",
   "metadata": {},
   "source": [
    "<h1 align=\"center\">Física Computacional.</h1>\n",
    "<h1 align=\"center\">Semestre 2025-2</h1>\n",
    "\n",
    "<h2>Práctica 2. Fundamentos de programación para la física computacional </h2> \n",
    "\n",
    "---\n",
    "### Alumno: Pérez Trejo Brandon Eliud\n",
    "---"
   ]
  },
  {
   "cell_type": "markdown",
   "id": "75a198a4-be67-4e8b-9a92-a0ce0ef9a613",
   "metadata": {},
   "source": [
    "### **EJERCICIOS**:\n",
    "\n",
    "$\\;$\n",
    "\n",
    "#### **1. Regla del trapecio.** El archivo _velocidades.txt_ (adjunto), contiene dos columnas de números, la primera representa el tiempo $t$ en segundos y la segunda la $x$-velocidad en metros por segundo de una partícula, medida una vez por segundo desde el tiempo $t=0$ hasta $t=100$. Escribe un programa para hacer lo siguiente:"
   ]
  },
  {
   "cell_type": "markdown",
   "id": "0d6d4d4f-ede2-4349-ab32-ddaa0e6f6f91",
   "metadata": {},
   "source": [
    "#### **(a)** Lee los datos y, usando la **regla del trapecio**, calcula a partir de ellos la distancia aproximada recorrida por la partícula en la dirección $x$ como una función del tiempo."
   ]
  },
  {
   "cell_type": "code",
   "execution_count": null,
   "id": "4faa8e6e-90af-4730-90dc-2b411cae2eb1",
   "metadata": {},
   "outputs": [],
   "source": []
  },
  {
   "cell_type": "code",
   "execution_count": null,
   "id": "a0d60086-9435-45e3-b043-224921227113",
   "metadata": {},
   "outputs": [],
   "source": []
  },
  {
   "cell_type": "code",
   "execution_count": null,
   "id": "f8430aa9-e96a-42fb-bd30-f1c39ae999c6",
   "metadata": {},
   "outputs": [],
   "source": []
  },
  {
   "cell_type": "markdown",
   "id": "1614ccc8-cfeb-4b48-b804-966435e1bab6",
   "metadata": {},
   "source": [
    "#### **(b)** Extiende tu programa para hacer una gráfica que muestre, en el mismo gráfico, tanto la curve de velocidad original como la distancia recorrida como una función del tiempo."
   ]
  },
  {
   "cell_type": "code",
   "execution_count": null,
   "id": "986abbff-adfa-442d-b9c9-016e6b358008",
   "metadata": {},
   "outputs": [],
   "source": []
  },
  {
   "cell_type": "code",
   "execution_count": null,
   "id": "8def331e-0ec5-4368-9f51-dc110104c8cb",
   "metadata": {},
   "outputs": [],
   "source": []
  },
  {
   "cell_type": "code",
   "execution_count": null,
   "id": "a21a3881-8dee-4d26-8a7d-e33c96aa44a8",
   "metadata": {},
   "outputs": [],
   "source": []
  },
  {
   "cell_type": "markdown",
   "id": "bb0a2ece-37a1-49be-bc32-b3b9020ca4be",
   "metadata": {},
   "source": [
    "#### **2. El límite de difracción de un telescopio** Nuestra capacidad para resolver detalles en observaciones astronómicas está limitada por la difracción de la luz en nuestros telescopios. La luz de las estrellas puede considerarse efectivamente como si proviniera de una fuente puntual en el infinito. Cuando dicha luz, con una longitud de onda $\\lambda$, pasa a través de la apertura circular que consta de un telescopio (que supondremos que tiene un radio unitario) y es enfocada por el telescopio en el plano focal, no produce un solo punto, sino un patrón de difracción circular que consta de un punto central rodeado por una serie de anillos concéntricos. La intensidad de la luz en este patrón de difracción está dada por:\n",
    "\n",
    "$$\n",
    "    I(r)= \\bigg{(} \\frac{J_1(kr)}{kr} \\bigg{)} ^2\n",
    "$$"
   ]
  },
  {
   "cell_type": "code",
   "execution_count": null,
   "id": "8c5bbbe6-8dad-4b04-bf2a-c66b743d7c5a",
   "metadata": {},
   "outputs": [],
   "source": []
  },
  {
   "cell_type": "code",
   "execution_count": null,
   "id": "d881570a-20b3-4492-94a0-e1d79541e44b",
   "metadata": {},
   "outputs": [],
   "source": []
  },
  {
   "cell_type": "code",
   "execution_count": null,
   "id": "877dde6f-cc23-4123-bcc1-1c6c3a082656",
   "metadata": {},
   "outputs": [],
   "source": []
  },
  {
   "cell_type": "markdown",
   "id": "8d63c9e4-d153-449e-a0e9-ebf33f4d244a",
   "metadata": {},
   "source": [
    "#### **3. Capacidad calorífica de un sólido.**"
   ]
  },
  {
   "cell_type": "code",
   "execution_count": null,
   "id": "5a901367-0c9c-4e82-9136-ebf02e59ff0e",
   "metadata": {},
   "outputs": [],
   "source": []
  },
  {
   "cell_type": "code",
   "execution_count": null,
   "id": "f4106ccb-2251-4f88-a2bc-8ea8f6e985c5",
   "metadata": {},
   "outputs": [],
   "source": []
  },
  {
   "cell_type": "code",
   "execution_count": null,
   "id": "cf7fae8d-a07f-46fc-8056-bde7fc11b7bc",
   "metadata": {},
   "outputs": [],
   "source": []
  },
  {
   "cell_type": "markdown",
   "id": "6be01fa5-a398-4c7d-94a6-7cec7782efb7",
   "metadata": {},
   "source": [
    "#### **Atracción gravitacional de una lámina uniforme.**"
   ]
  },
  {
   "cell_type": "code",
   "execution_count": null,
   "id": "aabdc88b-605d-4da2-9089-40b82eb5c674",
   "metadata": {},
   "outputs": [],
   "source": []
  },
  {
   "cell_type": "code",
   "execution_count": null,
   "id": "b62650d3-8ccb-43ff-8b89-c12ae681e06c",
   "metadata": {},
   "outputs": [],
   "source": []
  },
  {
   "cell_type": "code",
   "execution_count": null,
   "id": "97ca347e-c988-4d7b-8426-ff09ef64b071",
   "metadata": {},
   "outputs": [],
   "source": []
  }
 ],
 "metadata": {
  "kernelspec": {
   "display_name": "Python 3 (ipykernel)",
   "language": "python",
   "name": "python3"
  },
  "language_info": {
   "codemirror_mode": {
    "name": "ipython",
    "version": 3
   },
   "file_extension": ".py",
   "mimetype": "text/x-python",
   "name": "python",
   "nbconvert_exporter": "python",
   "pygments_lexer": "ipython3",
   "version": "3.13.2"
  }
 },
 "nbformat": 4,
 "nbformat_minor": 5
}
