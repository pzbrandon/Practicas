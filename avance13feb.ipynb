{
 "cells": [
  {
   "cell_type": "markdown",
   "metadata": {},
   "source": [
    "#### Ejercicios de la tarea\n"
   ]
  },
  {
   "cell_type": "markdown",
   "metadata": {},
   "source": [
    "#### **Ejercicio 3**"
   ]
  },
  {
   "cell_type": "markdown",
   "metadata": {},
   "source": [
    "#### **(a)** Utiliza esta fórmula para escribir una función llamada binomial(n,k) que calcule el coeficiente binomial para n y k dados. Asegúrate de que tu función devuelva la respuesta en forma de un númro entero (no flotante) y proporcione el valor correcto de 1 para el caso en que k=0."
   ]
  },
  {
   "cell_type": "code",
   "execution_count": 34,
   "metadata": {},
   "outputs": [
    {
     "name": "stdout",
     "output_type": "stream",
     "text": [
      "El binomial de n=7 y k=0 es  1\n",
      "El binomial de n=4 y k=2 es  6\n"
     ]
    }
   ],
   "source": [
    "\n",
    "# En este caso es más sencillo primero definir una función que calcule el factorial de algún número m\n",
    "\n",
    "def factorial(m):\n",
    "    if ( (m==1) or (m==0) ): #El facorial de 1 o de cero es 1\n",
    "        return 1\n",
    "    else:\n",
    "        return m*factorial(m-1)\n",
    "\n",
    "# Esta función no admite entradas de números negativos o flotantes, aparece \"maximun recursion depth exceed\" \n",
    "\n",
    "def binomial(n,k):\n",
    "    if ( (n<0) or (k<0)): # El factorial no está definido para números negativos\n",
    "        return 'No definida para números negativos!'\n",
    "    elif (k>n): # Si k > n aparece un facotrial de númerop negativo\n",
    "        return 'k tiene que ser menor que n'\n",
    "    elif ( (n%2==0) or (n%2==1) ): # Me aseguro que las entradas sean enteros\n",
    "        return int((factorial(n)/(factorial(k)*factorial(n-k))))\n",
    "    else: #Si no son enteros, entonces son decimales\n",
    "        return 'No definido para números decimales'\n",
    "\n",
    "print(\"El binomial de n=7 y k=0 es \", binomial(7,0)) # En general, esto es cierto para cualquier natural n\n",
    "\n",
    "print(\"El binomial de n=4 y k=2 es \", binomial(4,2)) # Una prueba para dos números pequeños"
   ]
  },
  {
   "cell_type": "code",
   "execution_count": null,
   "metadata": {},
   "outputs": [],
   "source": []
  },
  {
   "cell_type": "code",
   "execution_count": null,
   "metadata": {},
   "outputs": [],
   "source": []
  },
  {
   "cell_type": "markdown",
   "metadata": {},
   "source": [
    "#### **(b)** Usando tu función, escribe un programa que imprima las primeras 20 líneas del \"triángulo de Pascal\". La n-+esima línea del triángulo de Pascal contiene n+1 números, que son los coeficientes (n,0), (n,1), y así sucesivamente hasta (n,n). De tal manera que las primeras líneas son:"
   ]
  },
  {
   "cell_type": "code",
   "execution_count": 54,
   "metadata": {},
   "outputs": [
    {
     "name": "stdout",
     "output_type": "stream",
     "text": [
      "1\n"
     ]
    }
   ],
   "source": [
    "\n",
    "# Para imprimir las primera 20 líneas desde \n",
    "\n",
    "for n in range(1,2):\n",
    "    for m in range(0,n):\n",
    "        print(binomial(n,m))"
   ]
  },
  {
   "cell_type": "code",
   "execution_count": null,
   "metadata": {},
   "outputs": [],
   "source": []
  },
  {
   "cell_type": "markdown",
   "metadata": {},
   "source": [
    "#### **(c)** Utiliza tu programa para calcular las altitudes de los satélites que orbitan la Tierra una vez al día (la llamada *órbita \"geosincrónica\"*), una vez cada **90 minutos** y una vez cada **45 minutos**. \n",
    "#### ¿Qué concluyes del último de estos cálculos?"
   ]
  },
  {
   "cell_type": "code",
   "execution_count": null,
   "metadata": {},
   "outputs": [],
   "source": []
  },
  {
   "cell_type": "code",
   "execution_count": null,
   "metadata": {},
   "outputs": [],
   "source": []
  },
  {
   "cell_type": "code",
   "execution_count": null,
   "metadata": {},
   "outputs": [],
   "source": []
  },
  {
   "cell_type": "markdown",
   "metadata": {},
   "source": [
    "#### **2. Relatividad especial:** Una nave espacial viaja desde la Tierra en línea recta a una velocidad relativista $v$ a otro planeta a $x$ años luz de distancia. \n",
    "\n",
    "#### Escribe un programa que le pida al usuario el valor de $x$ y la velocidad $v$ como una fracción de la velocidad de la luz $c$, y que imprima el tiempo en años que tarda la nave espacial en llegar a su destino\n",
    "\n",
    "#### **(a)** en el marco de reposo de un observador en la Tierra y"
   ]
  },
  {
   "cell_type": "code",
   "execution_count": null,
   "metadata": {},
   "outputs": [],
   "source": []
  },
  {
   "cell_type": "code",
   "execution_count": null,
   "metadata": {},
   "outputs": [],
   "source": []
  },
  {
   "cell_type": "markdown",
   "metadata": {},
   "source": [
    "#### **(b)** como lo percibiría un pasajero a bordo de la nave. "
   ]
  },
  {
   "cell_type": "code",
   "execution_count": null,
   "metadata": {},
   "outputs": [],
   "source": []
  },
  {
   "cell_type": "code",
   "execution_count": null,
   "metadata": {},
   "outputs": [],
   "source": []
  },
  {
   "cell_type": "markdown",
   "metadata": {},
   "source": [
    "#### Usa tu programa para calcular las respuestas para un planeta a 10 años luz de distancia con $v = 0.99c$"
   ]
  },
  {
   "cell_type": "code",
   "execution_count": null,
   "metadata": {},
   "outputs": [],
   "source": []
  },
  {
   "cell_type": "code",
   "execution_count": null,
   "metadata": {},
   "outputs": [],
   "source": []
  },
  {
   "cell_type": "code",
   "execution_count": null,
   "metadata": {},
   "outputs": [],
   "source": []
  },
  {
   "cell_type": "markdown",
   "metadata": {},
   "source": [
    "#### **3. Órbitas planetarias**: En el espacio, la órbita de un cuerpo alrededor de otro (como un planeta alrededor del Sol), no necesariamente es circular. En general, toma la forma de una elipse, con el cuerpo a veces más cerca y otras más lejos. Si tenemos la distancia $\\ell_1$ de máxima aproximación de un planeta al Sol (su \\textit{perihelio}), y su velocidad lineal $v_1$ en el perihelio, entonces cualquier otra propiedad de la órbita se puede calcular a partir de estas dos cantidades de la siguiente manera:\n",
    "\n",
    "#### **(a)** La segunda ley de Kepler nos dice que la distancia $\\ell_2$ y la velocidad $v_2$ del planeta en su punto más distante, o \\textit{afelio}, satisfacen que $\\ell_2 v_2 = \\ell_1 v_1$.  Al mismo tiempo, la energía total, cinética más la gravitatoria, de un planeta con velocidad $v$ y distancia $r$ del Sol está dada por:\n",
    "\n",
    "<h3 align=\"center\">$E = \\frac{1}{2} m v^2 - G {mM\\over r}$,</h3>\n",
    "       \n",
    "#### donde $m$ es la masa del planeta, $M=1.9891\\times10^{30}\\,$kg es la masa del Sol y $G=6.6738\\times10^{-11}\\,\\mathrm{m^3\\,kg^{-1}\\,s^{-2}}$ es la constante gravitatoria de Newton. Dado que la energía debe conservarse, demuestre que $v_2$ es la raíz más pequeña de la ecuación cuadrática:\n",
    "\n",
    "<h3 align=\"center\">$v_2^2 - {2GM\\over v_1\\ell_1} v_2 - \\biggl[ v_1^2 - {2GM\\over\\ell_1} \\biggr] = 0$.</h3>\n",
    "\n",
    "#### Una vez que tenemos $v_2$ podemos calcular $\\ell_2$  usando la relación $\\ell_2 = \\ell_1 v_1/v_2$.\n"
   ]
  },
  {
   "cell_type": "code",
   "execution_count": null,
   "metadata": {},
   "outputs": [],
   "source": []
  },
  {
   "cell_type": "code",
   "execution_count": null,
   "metadata": {},
   "outputs": [],
   "source": []
  },
  {
   "cell_type": "code",
   "execution_count": null,
   "metadata": {},
   "outputs": [],
   "source": []
  },
  {
   "cell_type": "markdown",
   "metadata": {},
   "source": [
    "#### **(b)**  Dados los valores de $v_1$, $\\ell_1$, y $\\ell_2$; otros parámetros de la órbita se obtienen mediante fórmulas simples que pueden derivarse de las leyes de Kepler y del hecho de que la órbita es una elipse:\n",
    "\n",
    "<h4 align=\"center\"><b>Semieje mayor</b>: $\\; \\; \\; a = \\frac{1}{2}(\\ell_1+\\ell_2),$</h3>\n",
    "\n",
    "<h4 align=\"center\"><b>Semieje menor</b>: $\\; \\; b = \\sqrt{\\ell_1\\ell_2},$</h3>\n",
    "\n",
    "<h4 align=\"center\"><b>Período orbital</b>: $\\; \\; T = {2\\pi ab\\over\\ell_1 v_1},$</h3>\n",
    "\n",
    "<h4 align=\"center\"><b>Excentricidad orbital</b>: $\\; \\; e = {\\ell_2-\\ell_1\\over\\ell_2+\\ell_1},$</h3>\n",
    "\n",
    "#### Escribe un programa que le pida al usuario que ingrese la distancia al Sol y la velocidad en el perihelio; para que calcule e imprima las cantidades $\\ell_2$, $v_2$, $T$ y $e$.\n"
   ]
  },
  {
   "cell_type": "code",
   "execution_count": null,
   "metadata": {},
   "outputs": [],
   "source": []
  },
  {
   "cell_type": "code",
   "execution_count": null,
   "metadata": {},
   "outputs": [],
   "source": []
  },
  {
   "cell_type": "code",
   "execution_count": null,
   "metadata": {},
   "outputs": [],
   "source": []
  },
  {
   "cell_type": "markdown",
   "metadata": {},
   "source": [
    "#### **(c)** Prueba tu programa haciendo que calcule las propiedades de las órbitas de la Tierra (para las cuales $\\ell_1=1.4710\\times10^{11}\\,$m y $v_1=3.0287\\times10^4\\,\\mathrm{m\\,s^{-1}}$)  y del cometa Halley ($\\ell_1=8.7830\\times10^{10}\\,$m y $v_1=5.4529\\times10^4\\,\\mathrm{m\\,s^{-1}}$). Entre otras cosas, deberías encontrar que el período orbital de la Tierra es de un año y el del cometa Halley es de unos 76 años."
   ]
  },
  {
   "cell_type": "code",
   "execution_count": null,
   "metadata": {},
   "outputs": [],
   "source": []
  },
  {
   "cell_type": "code",
   "execution_count": null,
   "metadata": {},
   "outputs": [],
   "source": []
  },
  {
   "cell_type": "code",
   "execution_count": null,
   "metadata": {},
   "outputs": [],
   "source": []
  }
 ],
 "metadata": {
  "@webio": {
   "lastCommId": null,
   "lastKernelId": null
  },
  "kernelspec": {
   "display_name": "Python 3 (ipykernel)",
   "language": "python",
   "name": "python3"
  },
  "language_info": {
   "codemirror_mode": {
    "name": "ipython",
    "version": 3
   },
   "file_extension": ".py",
   "mimetype": "text/x-python",
   "name": "python",
   "nbconvert_exporter": "python",
   "pygments_lexer": "ipython3",
   "version": "3.13.1"
  }
 },
 "nbformat": 4,
 "nbformat_minor": 4
}
