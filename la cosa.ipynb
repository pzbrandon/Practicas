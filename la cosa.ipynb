{
 "cells": [
  {
   "cell_type": "code",
   "execution_count": 7,
   "id": "a216f51d-6d90-4072-84a0-405a73888cbd",
   "metadata": {},
   "outputs": [],
   "source": [
    "#Lo primero que hago es definir las constantes que se van a utilizar en el problema: \n",
    "#G la constante de gravitación de Newton, M la masa de la Tierra y R el radio de la Tierra.\n",
    "\n",
    "G=6.67e-11 #m^3 Kg^-1 s^2 \n",
    "M=5.97e24 #Kg\n",
    "R=6.371e6 #m (Todo en el sistema MKS)\n",
    "\n",
    "from math import pi #También requiero usar el valor de pi\n",
    "\n",
    "#Ahora construyo la función de la altitud que depende del tiempo\n",
    "\n",
    "def Altitud(T):\n",
    "    h=(( (G*M*(T**2)) / (4*((pi)**2)) )**(1/3)) - R\n",
    "    return h\n"
   ]
  },
  {
   "cell_type": "code",
   "execution_count": 12,
   "id": "94b65ed7-befd-42cd-a69c-392b81453073",
   "metadata": {},
   "outputs": [
    {
     "name": "stdout",
     "output_type": "stream",
     "text": [
      "43200\n",
      "5400\n",
      "2700\n"
     ]
    }
   ],
   "source": [
    "#El programa se tiene que probar para los tiempos de 90 y 45 minutos, así que primero los convierto a segundos\n",
    "\n",
    "t0=12*3600 #Número de horas que tiene un día por los segundos que tiene una hora\n",
    "t1=90*60 #Minutos por la cantidad de segundos que tiene un minuto\n",
    "t2=45*60\n",
    "\n",
    "print(t0)\n",
    "print(t1)\n",
    "print(t2)"
   ]
  },
  {
   "cell_type": "code",
   "execution_count": 13,
   "id": "e8905afa-9373-48e7-ae7b-2d494754035c",
   "metadata": {},
   "outputs": [
    {
     "data": {
      "text/plain": [
       "20230286.50149144"
      ]
     },
     "execution_count": 13,
     "metadata": {},
     "output_type": "execute_result"
    }
   ],
   "source": [
    "#Evaluo los tiempos dados medidos en segundos en la función cuyas unidades son adecuadas.\n",
    "\n",
    "Altitud(43200)"
   ]
  },
  {
   "cell_type": "code",
   "execution_count": 14,
   "id": "547abedf-c348-44b7-92c1-2b6227e1c3b9",
   "metadata": {},
   "outputs": [
    {
     "data": {
      "text/plain": [
       "279321.6253728606"
      ]
     },
     "execution_count": 14,
     "metadata": {},
     "output_type": "execute_result"
    }
   ],
   "source": [
    "Altitud(5400)"
   ]
  },
  {
   "cell_type": "code",
   "execution_count": 15,
   "id": "87ac5b95-0ac1-466a-adee-99c8a0a3d32a",
   "metadata": {},
   "outputs": [
    {
     "data": {
      "text/plain": [
       "-2181559.8978108233"
      ]
     },
     "execution_count": 15,
     "metadata": {},
     "output_type": "execute_result"
    }
   ],
   "source": [
    "Altitud(2700)"
   ]
  },
  {
   "cell_type": "code",
   "execution_count": 1,
   "id": "4cf03bb8-157b-493c-9844-f955cd0e71fe",
   "metadata": {},
   "outputs": [],
   "source": [
    "#Lo que se concluye del último cálculo es que no puede haber satélites que orbiten el planeta en esa última cantidad de tiempo."
   ]
  },
  {
   "cell_type": "code",
   "execution_count": 5,
   "id": "d191aece-ef51-44f1-b3c5-67346b054fdb",
   "metadata": {},
   "outputs": [
    {
     "name": "stdin",
     "output_type": "stream",
     "text": [
      "Introduce la distancia al sol cuando el planeta está en el perihelio:  1.471e11\n",
      "Introduce la velocidad lineal del planeta en el perihelio:  30287\n"
     ]
    },
    {
     "name": "stdout",
     "output_type": "stream",
     "text": [
      "La velocidad del planeta en el afelio es  152027197208.65994\n",
      "La velocidad del planeta en el afelio es  29305.39917726127\n"
     ]
    },
    {
     "ename": "TypeError",
     "evalue": "unsupported operand type(s) for *: 'float' and 'NoneType'",
     "output_type": "error",
     "traceback": [
      "\u001b[0;31m---------------------------------------------------------------------------\u001b[0m",
      "\u001b[0;31mTypeError\u001b[0m                                 Traceback (most recent call last)",
      "Cell \u001b[0;32mIn[5], line 44\u001b[0m\n\u001b[1;32m     42\u001b[0m     \u001b[38;5;28mprint\u001b[39m(\u001b[38;5;124m\"\u001b[39m\u001b[38;5;124mLa velocidad del planeta en el afelio es \u001b[39m\u001b[38;5;124m\"\u001b[39m, l2)\n\u001b[1;32m     43\u001b[0m     \u001b[38;5;28mprint\u001b[39m(\u001b[38;5;124m\"\u001b[39m\u001b[38;5;124mLa velocidad del planeta en el afelio es \u001b[39m\u001b[38;5;124m\"\u001b[39m, x2)\n\u001b[0;32m---> 44\u001b[0m     \u001b[38;5;28mprint\u001b[39m(\u001b[38;5;124m\"\u001b[39m\u001b[38;5;124mEl periodo orbital es \u001b[39m\u001b[38;5;124m\"\u001b[39m, \u001b[43mperiodo\u001b[49m\u001b[43m(\u001b[49m\u001b[43ml2\u001b[49m\u001b[43m)\u001b[49m, \u001b[38;5;124m\"\u001b[39m\u001b[38;5;124maños\u001b[39m\u001b[38;5;124m\"\u001b[39m)\n\u001b[1;32m     45\u001b[0m     \u001b[38;5;28mprint\u001b[39m(\u001b[38;5;124m\"\u001b[39m\u001b[38;5;124mLa excentricidad es \u001b[39m\u001b[38;5;124m\"\u001b[39m, excentricidad(l2) )\n\u001b[1;32m     46\u001b[0m \u001b[38;5;28;01melif\u001b[39;00m x1 \u001b[38;5;241m==\u001b[39m x2: \u001b[38;5;66;03m#Si la órbita es circular solo hay un valor para v2\u001b[39;00m\n",
      "Cell \u001b[0;32mIn[5], line 28\u001b[0m, in \u001b[0;36mperiodo\u001b[0;34m(y)\u001b[0m\n\u001b[1;32m     27\u001b[0m \u001b[38;5;28;01mdef\u001b[39;00m \u001b[38;5;21mperiodo\u001b[39m(y): \u001b[38;5;66;03m#El periódo de la órbita\u001b[39;00m\n\u001b[0;32m---> 28\u001b[0m     (\u001b[38;5;241;43m2\u001b[39;49m\u001b[38;5;241;43m*\u001b[39;49m\u001b[43mpi\u001b[49m\u001b[38;5;241;43m*\u001b[39;49m\u001b[43mmayor\u001b[49m\u001b[43m(\u001b[49m\u001b[43my\u001b[49m\u001b[43m)\u001b[49m\u001b[38;5;241m*\u001b[39mmenor(y)\u001b[38;5;241m*\u001b[39m(\u001b[38;5;241m3.154e7\u001b[39m))\u001b[38;5;241m/\u001b[39m(l1\u001b[38;5;241m*\u001b[39mv1)\n",
      "\u001b[0;31mTypeError\u001b[0m: unsupported operand type(s) for *: 'float' and 'NoneType'"
     ]
    }
   ],
   "source": [
    "# Importo de la biblioteca math la función raíz cuadrada y el valor de pi\n",
    "from math import sqrt\n",
    "from math import pi\n",
    "\n",
    "#Le pido al usuario que introduzca los valores de la distancia y la velocidad en el perihelio\n",
    "l1 = float(input(\"Introduce la distancia al sol cuando el planeta está en el perihelio: \"))\n",
    "v1 = float(input(\"Introduce la velocidad lineal del planeta en el perihelio: \"))\n",
    "\n",
    "#Defino mis constantes que necesito para calcular\n",
    "G = 6.6738e-11\n",
    "M = 1.9891e30\n",
    "\n",
    "#Como hay dos valores posibles para v2, defino por separado el discriminante de la ecuación cuadrática para v2\n",
    "dis = sqrt( (G*M/(v1*l1))**2 + (v1**2 - (2*G*M/l1)) )\n",
    "\n",
    "x1 = (G*M/(v1*l1)) + dis #Mi primera solución a v2\n",
    "x2 = (G*M/(v1*l1)) - dis #Mi segunda solución a v2\n",
    "\n",
    "#Defino por separado algunas funciones que van a depender de l2\n",
    "\n",
    "def mayor(y): #El eje mayor de la órbita\n",
    "    a = (l1+y)/2\n",
    "\n",
    "def menor(y): #El eje menor de la órbita\n",
    "    b = sqrt(l1*y)\n",
    "\n",
    "def periodo(y): #El periódo de la órbita\n",
    "    (2*pi*mayor(y)*menor(y)*(3.154e7))/(l1*v1) #periodo medido en años\n",
    "\n",
    "def excentricidad(y): #La excentricidad de la elipse\n",
    "    (y-l1)/(y+l1)\n",
    "\n",
    "#Quiero quedarme con el menor valor real para v2\n",
    "if 0 < x1 < x2: #si es x1, calculo con ese\n",
    "    l2 = l1*v1/x1\n",
    "    print(\"La distancia al sol en el afelio es \", l2)\n",
    "    print(\"La velocidad del planeta en el afelio es \", x1)\n",
    "    print(\"El periodo orbital es \", periodo(l2), \"años\")\n",
    "    print(\"La excentricidad es \", excentricidad(l2) )\n",
    "elif 0 < x2 < x1: #Si es x2, entonces lo hago con ese\n",
    "    l2 = l1*v1/x2\n",
    "    print(\"La velocidad del planeta en el afelio es \", l2)\n",
    "    print(\"La velocidad del planeta en el afelio es \", x2)\n",
    "    print(\"El periodo orbital es \", periodo(l2), \"años\")\n",
    "    print(\"La excentricidad es \", excentricidad(l2) )\n",
    "elif x1 == x2: #Si la órbita es circular solo hay un valor para v2\n",
    "    print(\"La órbita es circular\")\n",
    "else: #No todos los datos son reales positivos, entonces los descarto\n",
    "    print(\"Datos no válidos.\")\n",
    "    \n"
   ]
  },
  {
   "cell_type": "code",
   "execution_count": null,
   "id": "e63fd39a-84e0-46c4-8b46-27002317c861",
   "metadata": {},
   "outputs": [],
   "source": []
  }
 ],
 "metadata": {
  "kernelspec": {
   "display_name": "Python 3 (ipykernel)",
   "language": "python",
   "name": "python3"
  },
  "language_info": {
   "codemirror_mode": {
    "name": "ipython",
    "version": 3
   },
   "file_extension": ".py",
   "mimetype": "text/x-python",
   "name": "python",
   "nbconvert_exporter": "python",
   "pygments_lexer": "ipython3",
   "version": "3.13.1"
  }
 },
 "nbformat": 4,
 "nbformat_minor": 5
}
